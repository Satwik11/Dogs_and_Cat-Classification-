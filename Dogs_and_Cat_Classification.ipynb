{
  "nbformat": 4,
  "nbformat_minor": 0,
  "metadata": {
    "colab": {
      "name": "Dogs and  Cat Classification.ipynb",
      "provenance": [],
      "collapsed_sections": []
    },
    "kernelspec": {
      "name": "python3",
      "display_name": "Python 3"
    },
    "accelerator": "GPU"
  },
  "cells": [
    {
      "cell_type": "code",
      "metadata": {
        "id": "CkjnDnibsLyt",
        "colab_type": "code",
        "colab": {}
      },
      "source": [
        "import numpy as np\n",
        "import matplotlib.pyplot as plt\n",
        "import keras\n",
        "from keras.layers import *\n",
        "from keras.models import * \n",
        "from keras.preprocessing import image"
      ],
      "execution_count": 1,
      "outputs": []
    },
    {
      "cell_type": "code",
      "metadata": {
        "id": "cjH45AfnuYWC",
        "colab_type": "code",
        "colab": {}
      },
      "source": [
        "model = Sequential()\n",
        "\n",
        "model.add(Conv2D(32, (3,3) ,input_shape=(64, 64, 3), activation='relu')) #Convolution\n",
        "model.add(BatchNormalization())\n",
        "model.add(MaxPooling2D(pool_size= (2,2)))\n",
        "model.add(Dropout(0.25))\n",
        "model.add(Conv2D(32, (3, 3), activation='relu'))\n",
        "model.add(BatchNormalization())\n",
        "model.add(MaxPooling2D(pool_size= (2,2)))\n",
        "model.add(Dropout(0.25))\n",
        "model.add(Flatten())\n",
        "model.add(Dense(units=64, activation='relu', kernel_initializer='uniform'))\n",
        "model.add(BatchNormalization())\n",
        "model.add(Dropout(0.6))\n",
        "model.add(Dense(units=2, activation='sigmoid'))\n",
        "\n",
        "model.compile(optimizer='adam', loss='binary_crossentropy', metrics=['accuracy'])"
      ],
      "execution_count": 2,
      "outputs": []
    },
    {
      "cell_type": "code",
      "metadata": {
        "id": "51tEdauRusFL",
        "colab_type": "code",
        "colab": {
          "base_uri": "https://localhost:8080/",
          "height": 607
        },
        "outputId": "24921261-c408-4915-ebd1-5814c34c9fc4"
      },
      "source": [
        "model.summary()"
      ],
      "execution_count": 3,
      "outputs": [
        {
          "output_type": "stream",
          "text": [
            "Model: \"sequential\"\n",
            "_________________________________________________________________\n",
            "Layer (type)                 Output Shape              Param #   \n",
            "=================================================================\n",
            "conv2d (Conv2D)              (None, 62, 62, 32)        896       \n",
            "_________________________________________________________________\n",
            "batch_normalization (BatchNo (None, 62, 62, 32)        128       \n",
            "_________________________________________________________________\n",
            "max_pooling2d (MaxPooling2D) (None, 31, 31, 32)        0         \n",
            "_________________________________________________________________\n",
            "dropout (Dropout)            (None, 31, 31, 32)        0         \n",
            "_________________________________________________________________\n",
            "conv2d_1 (Conv2D)            (None, 29, 29, 32)        9248      \n",
            "_________________________________________________________________\n",
            "batch_normalization_1 (Batch (None, 29, 29, 32)        128       \n",
            "_________________________________________________________________\n",
            "max_pooling2d_1 (MaxPooling2 (None, 14, 14, 32)        0         \n",
            "_________________________________________________________________\n",
            "dropout_1 (Dropout)          (None, 14, 14, 32)        0         \n",
            "_________________________________________________________________\n",
            "flatten (Flatten)            (None, 6272)              0         \n",
            "_________________________________________________________________\n",
            "dense (Dense)                (None, 64)                401472    \n",
            "_________________________________________________________________\n",
            "batch_normalization_2 (Batch (None, 64)                256       \n",
            "_________________________________________________________________\n",
            "dropout_2 (Dropout)          (None, 64)                0         \n",
            "_________________________________________________________________\n",
            "dense_1 (Dense)              (None, 2)                 130       \n",
            "=================================================================\n",
            "Total params: 412,258\n",
            "Trainable params: 412,002\n",
            "Non-trainable params: 256\n",
            "_________________________________________________________________\n"
          ],
          "name": "stdout"
        }
      ]
    },
    {
      "cell_type": "code",
      "metadata": {
        "id": "JjhjP_MJvX9W",
        "colab_type": "code",
        "colab": {}
      },
      "source": [
        "from keras.callbacks import EarlyStopping, ReduceLROnPlateau"
      ],
      "execution_count": 4,
      "outputs": []
    },
    {
      "cell_type": "code",
      "metadata": {
        "id": "KvBZluhxvfOk",
        "colab_type": "code",
        "colab": {}
      },
      "source": [
        "earlystop = EarlyStopping(patience=10)\n",
        "learning_rate_reduction = ReduceLROnPlateau(monitor='val_accuracy', \n",
        "                                            patience=2, \n",
        "                                            verbose=1, \n",
        "                                            factor=0.75, \n",
        "                                            min_lr=0.00005)\n",
        "\n",
        "callbacks = [earlystop, learning_rate_reduction]"
      ],
      "execution_count": 5,
      "outputs": []
    },
    {
      "cell_type": "code",
      "metadata": {
        "id": "hySHJ5rSxT05",
        "colab_type": "code",
        "colab": {}
      },
      "source": [
        "from keras.preprocessing.image import ImageDataGenerator\n",
        "\n",
        "training_datagen = ImageDataGenerator(rescale=1./255,\n",
        "                                      shear_range=0.1,\n",
        "                                      zoom_range=0.1,\n",
        "                                      horizontal_flip=True)\n",
        "\n",
        "validation_datagen = ImageDataGenerator(rescale=1./255)"
      ],
      "execution_count": 6,
      "outputs": []
    },
    {
      "cell_type": "code",
      "metadata": {
        "id": "ZxxCppvyI3t0",
        "colab_type": "code",
        "colab": {
          "base_uri": "https://localhost:8080/",
          "height": 35
        },
        "outputId": "4d2b9206-af72-4cc4-bcea-9291513be231"
      },
      "source": [
        "training_set = training_datagen.flow_from_directory('/content/drive/My Drive/dataset/training_set', \n",
        "                                                    target_size=(64,64),\n",
        "                                                    batch_size=32,\n",
        "                                                    class_mode='categorical')"
      ],
      "execution_count": 7,
      "outputs": [
        {
          "output_type": "stream",
          "text": [
            "Found 8000 images belonging to 2 classes.\n"
          ],
          "name": "stdout"
        }
      ]
    },
    {
      "cell_type": "code",
      "metadata": {
        "id": "dVXONXRTJa2d",
        "colab_type": "code",
        "colab": {
          "base_uri": "https://localhost:8080/",
          "height": 35
        },
        "outputId": "02c23f40-fe90-4951-d1b4-e485e4783489"
      },
      "source": [
        "validation_set = validation_datagen.flow_from_directory('/content/drive/My Drive/dataset/test_set', \n",
        "                                                target_size=(64,64), \n",
        "                                                batch_size=32, \n",
        "                                                class_mode='categorical')"
      ],
      "execution_count": 8,
      "outputs": [
        {
          "output_type": "stream",
          "text": [
            "Found 1880 images belonging to 2 classes.\n"
          ],
          "name": "stdout"
        }
      ]
    },
    {
      "cell_type": "code",
      "metadata": {
        "id": "qJUUF2Yg3Wct",
        "colab_type": "code",
        "colab": {
          "base_uri": "https://localhost:8080/",
          "height": 1000
        },
        "outputId": "11025035-eccd-4a90-fcc2-adb2fdd30740"
      },
      "source": [
        "history = model.fit(\n",
        "    training_set,\n",
        "    steps_per_epoch=8000//32,\n",
        "    epochs = 35,\n",
        "    validation_data = validation_set,\n",
        "    validation_steps=1880//32,\n",
        "    callbacks=callbacks\n",
        ")"
      ],
      "execution_count": 13,
      "outputs": [
        {
          "output_type": "stream",
          "text": [
            "Epoch 1/35\n",
            "250/250 [==============================] - 49s 194ms/step - loss: 0.5535 - accuracy: 0.7184 - val_loss: 0.5150 - val_accuracy: 0.7559\n",
            "Epoch 2/35\n",
            "250/250 [==============================] - 49s 196ms/step - loss: 0.5266 - accuracy: 0.7380 - val_loss: 0.8603 - val_accuracy: 0.7349\n",
            "Epoch 3/35\n",
            "250/250 [==============================] - ETA: 0s - loss: 0.5267 - accuracy: 0.7385\n",
            "Epoch 00003: ReduceLROnPlateau reducing learning rate to 0.0007500000356230885.\n",
            "250/250 [==============================] - 49s 194ms/step - loss: 0.5267 - accuracy: 0.7385 - val_loss: 0.5608 - val_accuracy: 0.7478\n",
            "Epoch 4/35\n",
            "250/250 [==============================] - 49s 195ms/step - loss: 0.4964 - accuracy: 0.7598 - val_loss: 0.4952 - val_accuracy: 0.7689\n",
            "Epoch 5/35\n",
            "250/250 [==============================] - 50s 199ms/step - loss: 0.4799 - accuracy: 0.7697 - val_loss: 0.4721 - val_accuracy: 0.7850\n",
            "Epoch 6/35\n",
            "250/250 [==============================] - 49s 195ms/step - loss: 0.4683 - accuracy: 0.7724 - val_loss: 0.4706 - val_accuracy: 0.7947\n",
            "Epoch 7/35\n",
            "250/250 [==============================] - 48s 194ms/step - loss: 0.4626 - accuracy: 0.7734 - val_loss: 0.4777 - val_accuracy: 0.7845\n",
            "Epoch 8/35\n",
            "250/250 [==============================] - ETA: 0s - loss: 0.4563 - accuracy: 0.7837\n",
            "Epoch 00008: ReduceLROnPlateau reducing learning rate to 0.0005625000048894435.\n",
            "250/250 [==============================] - 49s 195ms/step - loss: 0.4563 - accuracy: 0.7837 - val_loss: 0.4611 - val_accuracy: 0.7888\n",
            "Epoch 9/35\n",
            "250/250 [==============================] - 48s 193ms/step - loss: 0.4373 - accuracy: 0.7976 - val_loss: 0.4809 - val_accuracy: 0.7845\n",
            "Epoch 10/35\n",
            "250/250 [==============================] - ETA: 0s - loss: 0.4335 - accuracy: 0.7995\n",
            "Epoch 00010: ReduceLROnPlateau reducing learning rate to 0.0004218749818392098.\n",
            "250/250 [==============================] - 48s 193ms/step - loss: 0.4335 - accuracy: 0.7995 - val_loss: 0.4705 - val_accuracy: 0.7872\n",
            "Epoch 11/35\n",
            "250/250 [==============================] - 49s 197ms/step - loss: 0.4287 - accuracy: 0.8014 - val_loss: 0.4893 - val_accuracy: 0.7915\n",
            "Epoch 12/35\n",
            "250/250 [==============================] - 48s 193ms/step - loss: 0.4156 - accuracy: 0.8083 - val_loss: 0.5133 - val_accuracy: 0.7990\n",
            "Epoch 13/35\n",
            "250/250 [==============================] - 48s 193ms/step - loss: 0.4047 - accuracy: 0.8111 - val_loss: 0.4261 - val_accuracy: 0.8130\n",
            "Epoch 14/35\n",
            "250/250 [==============================] - 48s 193ms/step - loss: 0.4001 - accuracy: 0.8169 - val_loss: 0.4521 - val_accuracy: 0.8023\n",
            "Epoch 15/35\n",
            "250/250 [==============================] - ETA: 0s - loss: 0.3986 - accuracy: 0.8202\n",
            "Epoch 00015: ReduceLROnPlateau reducing learning rate to 0.00031640623637940735.\n",
            "250/250 [==============================] - 49s 196ms/step - loss: 0.3986 - accuracy: 0.8202 - val_loss: 0.5253 - val_accuracy: 0.7872\n",
            "Epoch 16/35\n",
            "250/250 [==============================] - 49s 195ms/step - loss: 0.3924 - accuracy: 0.8226 - val_loss: 0.4266 - val_accuracy: 0.8109\n",
            "Epoch 17/35\n",
            "250/250 [==============================] - ETA: 0s - loss: 0.3878 - accuracy: 0.8205\n",
            "Epoch 00017: ReduceLROnPlateau reducing learning rate to 0.00023730468819849193.\n",
            "250/250 [==============================] - 50s 199ms/step - loss: 0.3878 - accuracy: 0.8205 - val_loss: 0.4429 - val_accuracy: 0.8109\n",
            "Epoch 18/35\n",
            "250/250 [==============================] - 49s 196ms/step - loss: 0.3825 - accuracy: 0.8280 - val_loss: 0.4216 - val_accuracy: 0.8184\n",
            "Epoch 19/35\n",
            "250/250 [==============================] - 49s 195ms/step - loss: 0.3832 - accuracy: 0.8291 - val_loss: 0.4571 - val_accuracy: 0.8028\n",
            "Epoch 20/35\n",
            "250/250 [==============================] - ETA: 0s - loss: 0.3751 - accuracy: 0.8290\n",
            "Epoch 00020: ReduceLROnPlateau reducing learning rate to 0.00017797851614886895.\n",
            "250/250 [==============================] - 49s 194ms/step - loss: 0.3751 - accuracy: 0.8290 - val_loss: 0.5030 - val_accuracy: 0.8055\n",
            "Epoch 21/35\n",
            "250/250 [==============================] - 49s 197ms/step - loss: 0.3675 - accuracy: 0.8401 - val_loss: 0.4636 - val_accuracy: 0.8098\n",
            "Epoch 22/35\n",
            "250/250 [==============================] - 49s 194ms/step - loss: 0.3605 - accuracy: 0.8384 - val_loss: 0.4129 - val_accuracy: 0.8233\n",
            "Epoch 23/35\n",
            "250/250 [==============================] - 49s 195ms/step - loss: 0.3579 - accuracy: 0.8390 - val_loss: 0.4259 - val_accuracy: 0.8173\n",
            "Epoch 24/35\n",
            "250/250 [==============================] - ETA: 0s - loss: 0.3632 - accuracy: 0.8378\n",
            "Epoch 00024: ReduceLROnPlateau reducing learning rate to 0.0001334838816546835.\n",
            "250/250 [==============================] - 50s 199ms/step - loss: 0.3632 - accuracy: 0.8378 - val_loss: 0.4341 - val_accuracy: 0.8211\n",
            "Epoch 25/35\n",
            "250/250 [==============================] - 49s 195ms/step - loss: 0.3537 - accuracy: 0.8406 - val_loss: 0.4143 - val_accuracy: 0.8287\n",
            "Epoch 26/35\n",
            "250/250 [==============================] - 49s 195ms/step - loss: 0.3548 - accuracy: 0.8416 - val_loss: 0.4383 - val_accuracy: 0.8179\n",
            "Epoch 27/35\n",
            "250/250 [==============================] - ETA: 0s - loss: 0.3498 - accuracy: 0.8469\n",
            "Epoch 00027: ReduceLROnPlateau reducing learning rate to 0.00010011290578404441.\n",
            "250/250 [==============================] - 49s 197ms/step - loss: 0.3498 - accuracy: 0.8469 - val_loss: 0.4115 - val_accuracy: 0.8249\n",
            "Epoch 28/35\n",
            "250/250 [==============================] - 49s 195ms/step - loss: 0.3562 - accuracy: 0.8451 - val_loss: 0.4117 - val_accuracy: 0.8265\n",
            "Epoch 29/35\n",
            "250/250 [==============================] - 49s 195ms/step - loss: 0.3524 - accuracy: 0.8457 - val_loss: 0.4156 - val_accuracy: 0.8303\n",
            "Epoch 30/35\n",
            "250/250 [==============================] - 50s 198ms/step - loss: 0.3467 - accuracy: 0.8487 - val_loss: 0.4092 - val_accuracy: 0.8184\n",
            "Epoch 31/35\n",
            "250/250 [==============================] - ETA: 0s - loss: 0.3430 - accuracy: 0.8516\n",
            "Epoch 00031: ReduceLROnPlateau reducing learning rate to 7.508467933803331e-05.\n",
            "250/250 [==============================] - 49s 194ms/step - loss: 0.3430 - accuracy: 0.8516 - val_loss: 0.4048 - val_accuracy: 0.8244\n",
            "Epoch 32/35\n",
            "250/250 [==============================] - 49s 195ms/step - loss: 0.3402 - accuracy: 0.8506 - val_loss: 0.4147 - val_accuracy: 0.8217\n",
            "Epoch 33/35\n",
            "250/250 [==============================] - ETA: 0s - loss: 0.3398 - accuracy: 0.8486\n",
            "Epoch 00033: ReduceLROnPlateau reducing learning rate to 5.6313510867767036e-05.\n",
            "250/250 [==============================] - 49s 197ms/step - loss: 0.3398 - accuracy: 0.8486 - val_loss: 0.4572 - val_accuracy: 0.8190\n",
            "Epoch 34/35\n",
            "250/250 [==============================] - 49s 195ms/step - loss: 0.3362 - accuracy: 0.8545 - val_loss: 0.4167 - val_accuracy: 0.8249\n",
            "Epoch 35/35\n",
            "250/250 [==============================] - ETA: 0s - loss: 0.3382 - accuracy: 0.8510\n",
            "Epoch 00035: ReduceLROnPlateau reducing learning rate to 5e-05.\n",
            "250/250 [==============================] - 49s 195ms/step - loss: 0.3382 - accuracy: 0.8510 - val_loss: 0.4369 - val_accuracy: 0.8168\n"
          ],
          "name": "stdout"
        }
      ]
    },
    {
      "cell_type": "code",
      "metadata": {
        "id": "seBcG8Y2XhPw",
        "colab_type": "code",
        "colab": {
          "base_uri": "https://localhost:8080/",
          "height": 612
        },
        "outputId": "f20efe87-180b-4ad5-f40a-c773c17bc4a2"
      },
      "source": [
        "accuracy = history.history['accuracy']\n",
        "val_accuracy = history.history['val_accuracy']\n",
        "loss = history.history['loss']\n",
        "val_loss = history.history['val_loss']\n",
        "\n",
        "fig = plt.figure(figsize=(10,10)) \n",
        "ax1 = fig.add_subplot(2,1,1)\n",
        "ax2 = fig.add_subplot(2,1,2)\n",
        "\n",
        "ax1.plot(accuracy, label='Training Accuracy', color='Blue')\n",
        "ax1.plot(val_accuracy, label='Validation Accuracy', color='Red')\n",
        "ax1.set_title(\"Training and Validation accuracy\", fontsize=20)\n",
        "ax1.set_ylabel(\"Accuracy\", fontsize=15)\n",
        "ax1.legend()\n",
        "\n",
        "ax2.plot(loss, label='Training Loss', color='Blue')\n",
        "ax2.plot(val_loss, label='Validation Loss', color='Red')\n",
        "ax2.set_title(\"Training and validation loss\", fontsize=20)\n",
        "ax2.set_ylabel(\"Loss\", fontsize=15)\n",
        "ax2.legend()\n",
        "\n",
        "plt.show()"
      ],
      "execution_count": 16,
      "outputs": [
        {
          "output_type": "display_data",
          "data": {
            "image/png": "[encoded data removed]",
            "text/plain": [
              "<Figure size 720x720 with 2 Axes>"
            ]
          },
          "metadata": {
            "tags": [],
            "needs_background": "light"
          }
        }
      ]
    },
    {
      "cell_type": "code",
      "metadata": {
        "id": "efHdVOHwXyZq",
        "colab_type": "code",
        "colab": {
          "base_uri": "https://localhost:8080/",
          "height": 35
        },
        "outputId": "6bb19d6b-1bcc-498b-a37e-5e551c12b7aa"
      },
      "source": [
        "print(\"Accuracy Score:\" , round(accuracy[-1]*100))"
      ],
      "execution_count": 17,
      "outputs": [
        {
          "output_type": "stream",
          "text": [
            "Accuracy Score: 85\n"
          ],
          "name": "stdout"
        }
      ]
    },
    {
      "cell_type": "code",
      "metadata": {
        "id": "m6Mnx5YxX7KO",
        "colab_type": "code",
        "colab": {}
      },
      "source": [
        "model.save('MODEL.h5')"
      ],
      "execution_count": 18,
      "outputs": []
    },
    {
      "cell_type": "code",
      "metadata": {
        "id": "8feINCqWYpW7",
        "colab_type": "code",
        "colab": {}
      },
      "source": [
        ""
      ],
      "execution_count": null,
      "outputs": []
    }
  ]
}